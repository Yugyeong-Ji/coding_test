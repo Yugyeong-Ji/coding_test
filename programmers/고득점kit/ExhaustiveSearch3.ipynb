{
 "cells": [
  {
   "attachments": {},
   "cell_type": "markdown",
   "metadata": {},
   "source": [
    "# 프로그래머스 고득점 Kit"
   ]
  },
  {
   "attachments": {},
   "cell_type": "markdown",
   "metadata": {},
   "source": [
    "## 완전 탐색 level2 - 소수 찾기"
   ]
  },
  {
   "cell_type": "code",
   "execution_count": null,
   "metadata": {},
   "outputs": [],
   "source": [
    "from itertools import permutations\n",
    "\n",
    "def checkPrime(n):\n",
    "    if n < 2:\n",
    "        return False\n",
    "    for i in range(2, n):\n",
    "        if n % i == 0:\n",
    "            return False\n",
    "    else: return True\n",
    "\n",
    "def solution(numbers):\n",
    "    answer = []\n",
    "    numbers = list(numbers)\n",
    "    temp = []\n",
    "    \n",
    "    for i in range(1, len(numbers) + 1):\n",
    "        temp += list(permutations(numbers, i))\n",
    "    num = [int(''.join(n)) for n in temp]\n",
    "    for i in num:\n",
    "        if checkPrime(i):\n",
    "            answer.append(i)\n",
    "    return len(set(answer))"
   ]
  }
 ],
 "metadata": {
  "language_info": {
   "name": "python"
  },
  "orig_nbformat": 4
 },
 "nbformat": 4,
 "nbformat_minor": 2
}
