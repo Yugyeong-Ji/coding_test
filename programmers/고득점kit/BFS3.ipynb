{
 "cells": [
  {
   "attachments": {},
   "cell_type": "markdown",
   "metadata": {},
   "source": [
    "# 프로그래머스 고득점 Kit"
   ]
  },
  {
   "attachments": {},
   "cell_type": "markdown",
   "metadata": {},
   "source": [
    "## DFS/BFS level3 - 네트워크"
   ]
  },
  {
   "cell_type": "code",
   "execution_count": null,
   "metadata": {},
   "outputs": [],
   "source": [
    "from collections import deque\n",
    "\n",
    "def solution(n, computers):\n",
    "    answer = 0\n",
    "    visited = [False] * n\n",
    "    \n",
    "    for com in range(n):\n",
    "        if visited[com] == False:\n",
    "            BFS(n, computers, com, visited)\n",
    "            answer += 1\n",
    "    return answer\n",
    "    \n",
    "def BFS(n, computers, com, visited):\n",
    "        queue = deque()\n",
    "        queue.append(com)\n",
    "        \n",
    "        while queue:\n",
    "            com = queue.pop()\n",
    "            visited[com] = True\n",
    "            \n",
    "            for i in range(n):\n",
    "                if com != i and visited[i] == False and computers[i][com] == 1:\n",
    "                    queue.append(i)"
   ]
  }
 ],
 "metadata": {
  "language_info": {
   "name": "python"
  },
  "orig_nbformat": 4
 },
 "nbformat": 4,
 "nbformat_minor": 2
}
