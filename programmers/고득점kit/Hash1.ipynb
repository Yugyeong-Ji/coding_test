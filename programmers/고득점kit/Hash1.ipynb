{
  "nbformat": 4,
  "nbformat_minor": 0,
  "metadata": {
    "colab": {
      "provenance": []
    },
    "kernelspec": {
      "name": "python3",
      "display_name": "Python 3"
    },
    "language_info": {
      "name": "python"
    }
  },
  "cells": [
    {
      "cell_type": "markdown",
      "source": [
        "# 프로그래머스\n",
        "## 고득점 Kits\n",
        "\n",
        "### 해시 Level.1"
      ],
      "metadata": {
        "id": "nd-9KaSA5ZsD"
      }
    },
    {
      "cell_type": "code",
      "execution_count": null,
      "metadata": {
        "id": "YkK60fPE5Xpf"
      },
      "outputs": [],
      "source": [
        "def solution(nums):\n",
        "    if len(nums) / 2 <= len(set(nums)): answer = len(nums) / 2\n",
        "    else: answer = len(set(nums))\n",
        "    return answer"
      ]
    }
  ]
}