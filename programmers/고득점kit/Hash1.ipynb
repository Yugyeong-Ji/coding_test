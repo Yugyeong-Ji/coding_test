{
  "cells": [
    {
      "cell_type": "markdown",
      "metadata": {
        "id": "nd-9KaSA5ZsD"
      },
      "source": [
        "# 프로그래머스\n",
        "## 고득점 Kits\n",
        "\n",
        "### 해시 Level.1"
      ]
    },
    {
      "cell_type": "code",
      "execution_count": null,
      "metadata": {
        "id": "YkK60fPE5Xpf"
      },
      "outputs": [],
      "source": [
        "def solution(nums):\n",
        "    if len(nums) / 2 <= len(set(nums)): answer = len(nums) / 2\n",
        "    else: answer = len(set(nums))\n",
        "    return answer"
      ]
    },
    {
      "attachments": {},
      "cell_type": "markdown",
      "metadata": {},
      "source": [
        "### Another Solution"
      ]
    },
    {
      "cell_type": "code",
      "execution_count": null,
      "metadata": {},
      "outputs": [],
      "source": [
        "def solution(ls):\n",
        "    return min(len(ls)/2, len(set(ls)))"
      ]
    }
  ],
  "metadata": {
    "colab": {
      "provenance": []
    },
    "kernelspec": {
      "display_name": "Python 3",
      "name": "python3"
    },
    "language_info": {
      "name": "python"
    }
  },
  "nbformat": 4,
  "nbformat_minor": 0
}
