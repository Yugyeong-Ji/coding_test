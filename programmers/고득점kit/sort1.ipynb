{
 "cells": [
  {
   "attachments": {},
   "cell_type": "markdown",
   "metadata": {},
   "source": [
    "# 프로그래머스 고득점 Kit"
   ]
  },
  {
   "attachments": {},
   "cell_type": "markdown",
   "metadata": {},
   "source": [
    "## 정렬 Level2-가장 큰수"
   ]
  },
  {
   "cell_type": "code",
   "execution_count": null,
   "metadata": {},
   "outputs": [],
   "source": [
    "def solution(numbers):\n",
    "    answer = ''\n",
    "    str_numbers = sorted(list(map(str, numbers)), reverse = True, key = lambda x:x*3)\n",
    "    answer = str(int(''.join(str_numbers))) # 0만 들어올 경우, 맨 앞의 0을 제거하기 위해서 int로 변환했다가 다시 str로 변경\n",
    "    return answer"
   ]
  }
 ],
 "metadata": {
  "language_info": {
   "name": "python"
  },
  "orig_nbformat": 4
 },
 "nbformat": 4,
 "nbformat_minor": 2
}
