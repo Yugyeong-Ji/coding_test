{
  "cells": [
    {
      "cell_type": "markdown",
      "metadata": {
        "id": "nd-9KaSA5ZsD"
      },
      "source": [
        "# 프로그래머스\n",
        "## 고득점 Kits\n",
        "\n",
        "### 해시 Level.1"
      ]
    },
    {
      "cell_type": "code",
      "execution_count": null,
      "metadata": {
        "id": "YkK60fPE5Xpf"
      },
      "outputs": [],
      "source": [
        "from collections import Counter\n",
        "def solution(participant, completion):\n",
        "    # 차집합을 사용하려고 하였으나, 동명이인 때문에 불가능\n",
        "    count = Counter(participant)\n",
        "    for i in completion:\n",
        "        count[i] -= 1\n",
        "        if count[i] == 0:\n",
        "            del count[i]\n",
        "    return list(count.keys())[0]"
      ]
    },
    {
      "attachments": {},
      "cell_type": "markdown",
      "metadata": {},
      "source": [
        "### Another solution"
      ]
    },
    {
      "cell_type": "code",
      "execution_count": null,
      "metadata": {},
      "outputs": [],
      "source": [
        "import collections\n",
        "\n",
        "\n",
        "def solution(participant, completion):\n",
        "    # Counter는 객체라서 뺄셈이 가능하다!!!!\n",
        "    answer = collections.Counter(participant) - collections.Counter(completion)\n",
        "    return list(answer.keys())[0]"
      ]
    }
  ],
  "metadata": {
    "colab": {
      "provenance": []
    },
    "kernelspec": {
      "display_name": "Python 3",
      "name": "python3"
    },
    "language_info": {
      "name": "python"
    }
  },
  "nbformat": 4,
  "nbformat_minor": 0
}
