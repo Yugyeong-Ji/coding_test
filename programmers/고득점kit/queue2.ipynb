{
 "cells": [
  {
   "attachments": {},
   "cell_type": "markdown",
   "metadata": {},
   "source": [
    "# 프로그래머스 고득점 Kit"
   ]
  },
  {
   "attachments": {},
   "cell_type": "markdown",
   "metadata": {},
   "source": [
    "### 스택/큐 level2 - 올바른 괄호"
   ]
  },
  {
   "cell_type": "code",
   "execution_count": null,
   "metadata": {},
   "outputs": [],
   "source": [
    "def solution(s):\n",
    "    answer = True\n",
    "    check = []\n",
    "    for i in range(len(s)):\n",
    "        if s[i] == '(':\n",
    "            check.append(0)\n",
    "        elif s[i] == ')' and len(check) != 0:\n",
    "            check.pop()\n",
    "        else:\n",
    "            answer = False\n",
    "            break\n",
    "    if len(check) != 0: answer = False\n",
    "        \n",
    "    return answer"
   ]
  }
 ],
 "metadata": {
  "language_info": {
   "name": "python"
  },
  "orig_nbformat": 4
 },
 "nbformat": 4,
 "nbformat_minor": 2
}
