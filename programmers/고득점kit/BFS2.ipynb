{
 "cells": [
  {
   "attachments": {},
   "cell_type": "markdown",
   "metadata": {},
   "source": [
    "# 프로그래머스 고득점 Kit"
   ]
  },
  {
   "attachments": {},
   "cell_type": "markdown",
   "metadata": {},
   "source": [
    "## DFS/BFS Level3-단어 변환"
   ]
  },
  {
   "cell_type": "code",
   "execution_count": null,
   "metadata": {},
   "outputs": [],
   "source": [
    "from collections import deque\n",
    "\n",
    "\n",
    "def solution(begin, target, words):\n",
    "    answer = 0\n",
    "    q = deque()\n",
    "    q.append([begin, 0])\n",
    "    V = [ 0 for i in range(len(words))]\n",
    "    while q:\n",
    "        word, cnt = q.popleft()\n",
    "        if word == target:\n",
    "            answer = cnt\n",
    "            break        \n",
    "        for i in range(len(words)):\n",
    "            temp_cnt = 0\n",
    "            if not V[i]:\n",
    "                for j in range(len(word)):\n",
    "                    if word[j] != words[i][j]:\n",
    "                        temp_cnt += 1\n",
    "                if temp_cnt == 1:\n",
    "                    q.append([words[i], cnt+1])\n",
    "                    V[i] = 1\n",
    "                    \n",
    "    return answer\n"
   ]
  }
 ],
 "metadata": {
  "kernelspec": {
   "display_name": "Python 3",
   "language": "python",
   "name": "python3"
  },
  "language_info": {
   "codemirror_mode": {
    "name": "ipython",
    "version": 3
   },
   "file_extension": ".py",
   "mimetype": "text/x-python",
   "name": "python",
   "nbconvert_exporter": "python",
   "pygments_lexer": "ipython3",
   "version": "3.11.4"
  },
  "orig_nbformat": 4
 },
 "nbformat": 4,
 "nbformat_minor": 2
}
