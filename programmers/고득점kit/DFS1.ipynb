{
 "cells": [
  {
   "attachments": {},
   "cell_type": "markdown",
   "metadata": {},
   "source": [
    "# 프로그래머스 고득점 Kit"
   ]
  },
  {
   "attachments": {},
   "cell_type": "markdown",
   "metadata": {},
   "source": [
    "## DFS/BFS Level3-여행 경로"
   ]
  },
  {
   "cell_type": "code",
   "execution_count": null,
   "metadata": {},
   "outputs": [],
   "source": [
    "# DFS+재귀, BFS 모두 풀이 가능\n",
    "\n",
    "from collections import defaultdict\n",
    "\n",
    "def solution(tickets):\n",
    "    t_dict = defaultdict(list)\n",
    "    \n",
    "    # key: 출발지, value: 목적지\n",
    "    for s, e in tickets:\n",
    "        t_dict[s].append(e)\n",
    "    \n",
    "    for t_key in t_dict.keys():\n",
    "        t_dict[t_key].sort(reverse = True) # path에 넣을 때, pop을 사용할 것이기 때문에 reverse\n",
    "    \n",
    "    answer = []\n",
    "    path = [\"ICN\"]\n",
    "    while path:\n",
    "        now = path[-1]\n",
    "        \n",
    "        if now not in t_dict or len(t_dict[now]) == 0:\n",
    "            answer.append(path.pop()) # answer엔 역순으로 담김.\n",
    "        else:\n",
    "            path.append(t_dict[now].pop())\n",
    "    \n",
    "    return answer[::-1] # 역순 반환"
   ]
  }
 ],
 "metadata": {
  "language_info": {
   "name": "python"
  },
  "orig_nbformat": 4
 },
 "nbformat": 4,
 "nbformat_minor": 2
}
