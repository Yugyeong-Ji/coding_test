{
 "cells": [
  {
   "attachments": {},
   "cell_type": "markdown",
   "metadata": {},
   "source": [
    "# 프로그래머스 알고리즘 고득점 Kit"
   ]
  },
  {
   "attachments": {},
   "cell_type": "markdown",
   "metadata": {},
   "source": [
    "## BFS Level2 - 게임 맵 최단거리"
   ]
  },
  {
   "cell_type": "code",
   "execution_count": null,
   "metadata": {},
   "outputs": [],
   "source": [
    "from collections import deque\n",
    "def solution(maps):\n",
    "    answer = 0\n",
    "    \n",
    "    # 상, 하, 좌, 우\n",
    "    dx = [-1, 1, 0, 0]\n",
    "    dy = [0, 0, -1, 1]\n",
    "    \n",
    "    def bfs(x, y):\n",
    "        queue = deque()\n",
    "        queue.append((x,y))\n",
    "        \n",
    "        # 큐가 빌 때까지 반복\n",
    "        while queue:\n",
    "            x, y = queue.popleft()\n",
    "            \n",
    "            for i in range(4):\n",
    "                nx = x + dx[i]\n",
    "                ny = y + dy[i]\n",
    "                \n",
    "                # 움직이지 못하는 조건\n",
    "                # 1) 벽이거나 맵을 벗어난 경우\n",
    "                # 2) 이미 지난 길인 경우\n",
    "                if nx < 0 or ny < 0 or nx >= len(maps) or ny >= len(maps[0]): continue\n",
    "                if maps[nx][ny] == 0:\n",
    "                    continue\n",
    "                if maps[nx][ny] == 1:\n",
    "                    maps[nx][ny] = maps[x][y] + 1\n",
    "                    queue.append((nx, ny)) # 재귀 -> 큐에 계속 값을 추가하면서 루프를 돌도록.\n",
    "                    \n",
    "        return maps[len(maps)-1][len(maps[0])-1]\n",
    "                           \n",
    "    answer = bfs(0,0)\n",
    "    if answer == 1:\n",
    "        return -1\n",
    "    else:\n",
    "        return answer"
   ]
  }
 ],
 "metadata": {
  "language_info": {
   "name": "python"
  },
  "orig_nbformat": 4
 },
 "nbformat": 4,
 "nbformat_minor": 2
}
