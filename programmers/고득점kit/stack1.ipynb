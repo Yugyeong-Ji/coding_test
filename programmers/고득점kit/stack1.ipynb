{
 "cells": [
  {
   "attachments": {},
   "cell_type": "markdown",
   "metadata": {},
   "source": [
    "# 프로그래머스 고득점 Kit"
   ]
  },
  {
   "attachments": {},
   "cell_type": "markdown",
   "metadata": {},
   "source": [
    "## 스택/큐 level1 - 같은 숫자는 싫어"
   ]
  },
  {
   "cell_type": "code",
   "execution_count": null,
   "metadata": {},
   "outputs": [],
   "source": [
    "def solution(arr):\n",
    "    answer = [arr[0]]\n",
    "    for i in range(1, len(arr)):\n",
    "        if arr[i] != arr[i-1]:\n",
    "            answer.append(arr[i])  \n",
    "    return answer"
   ]
  }
 ],
 "metadata": {
  "language_info": {
   "name": "python"
  },
  "orig_nbformat": 4
 },
 "nbformat": 4,
 "nbformat_minor": 2
}
