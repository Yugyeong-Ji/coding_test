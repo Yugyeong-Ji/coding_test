{
 "cells": [
  {
   "attachments": {},
   "cell_type": "markdown",
   "metadata": {},
   "source": [
    "# 프로그래머스 고득점 Kit"
   ]
  },
  {
   "attachments": {},
   "cell_type": "markdown",
   "metadata": {},
   "source": [
    "## 완전탐색 level1 - 모의고사"
   ]
  },
  {
   "cell_type": "code",
   "execution_count": null,
   "metadata": {},
   "outputs": [],
   "source": [
    "def solution(answers):\n",
    "    answer = []\n",
    "    pattern1 = [1, 2, 3, 4, 5]\n",
    "    pattern2 = [2, 1, 2, 3, 2, 4, 2, 5]\n",
    "    pattern3 = [3, 3, 1, 1, 2, 2, 4, 4, 5, 5]\n",
    "    \n",
    "    check = [0] * 3\n",
    "    \n",
    "    for i, ans in enumerate(answers):\n",
    "        if ans == pattern1[i % len(pattern1)]:\n",
    "            check[0] += 1\n",
    "        if ans == pattern2[i % len(pattern2)]:\n",
    "            check[1] += 1\n",
    "        if ans == pattern3[i % len(pattern3)]:\n",
    "            check[2] += 1\n",
    "            \n",
    "    for i, n in enumerate(check):\n",
    "        if n == max(check):\n",
    "            answer.append(i + 1)\n",
    "            \n",
    "    return answer"
   ]
  }
 ],
 "metadata": {
  "language_info": {
   "name": "python"
  },
  "orig_nbformat": 4
 },
 "nbformat": 4,
 "nbformat_minor": 2
}
