{
 "cells": [
  {
   "attachments": {},
   "cell_type": "markdown",
   "metadata": {},
   "source": [
    "# 프로그래머스 고득점 Kit"
   ]
  },
  {
   "attachments": {},
   "cell_type": "markdown",
   "metadata": {},
   "source": [
    "## 완전 탐색 level2 - 카펫"
   ]
  },
  {
   "cell_type": "code",
   "execution_count": null,
   "metadata": {},
   "outputs": [],
   "source": [
    "# 수학적 접근 -> 근의 공식 혹은 둘레 길이로 약수로 구할 수 있음\n",
    "# Sol 1) 근의 공식\n",
    "import math\n",
    "def solution(brown, yellow):\n",
    "    w = ((brown+4)/2 + math.sqrt(((brown+4)/2)**2-4*(brown+yellow)))/2\n",
    "    h = ((brown+4)/2 - math.sqrt(((brown+4)/2)**2-4*(brown+yellow)))/2\n",
    "    return [w,h]"
   ]
  },
  {
   "cell_type": "code",
   "execution_count": null,
   "metadata": {},
   "outputs": [],
   "source": [
    "# 둘레의 약수\n",
    "import math\n",
    "def solution(brown, yellow):\n",
    "    answer = []\n",
    "    for i in range(1, yellow + 1):\n",
    "        if yellow % i == 0:\n",
    "            if (brown - 4) / 2 == i + (yellow // i):\n",
    "                answer.append((yellow // i) + 2)\n",
    "                answer.append(i + 2)\n",
    "                break\n",
    "            else: continue\n",
    "    return answer"
   ]
  }
 ],
 "metadata": {
  "language_info": {
   "name": "python"
  },
  "orig_nbformat": 4
 },
 "nbformat": 4,
 "nbformat_minor": 2
}
