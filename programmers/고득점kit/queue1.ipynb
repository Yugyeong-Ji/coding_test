{
 "cells": [
  {
   "attachments": {},
   "cell_type": "markdown",
   "metadata": {},
   "source": [
    "# 프로그래머스 고득점 Kit"
   ]
  },
  {
   "attachments": {},
   "cell_type": "markdown",
   "metadata": {},
   "source": [
    "### 스택/큐 level2 - 기능개발"
   ]
  },
  {
   "cell_type": "code",
   "execution_count": null,
   "metadata": {},
   "outputs": [],
   "source": [
    "from collections import deque\n",
    "\n",
    "def solution(progresses, speeds):\n",
    "    answer = []\n",
    "    progresses = deque(progresses)\n",
    "    speeds = deque(speeds) \n",
    "    time = 1\n",
    "    cnt = 0\n",
    "    \n",
    "    while len(progresses):\n",
    "        if progresses[0] + speeds[0] * time >= 100:\n",
    "            progresses.popleft()\n",
    "            speeds.popleft()\n",
    "            cnt += 1\n",
    "        else:\n",
    "            if cnt > 0:\n",
    "                answer.append(cnt)\n",
    "                cnt = 0\n",
    "            time += 1\n",
    "    answer.append(cnt)\n",
    "    \n",
    "    return answer\n"
   ]
  }
 ],
 "metadata": {
  "language_info": {
   "name": "python"
  },
  "orig_nbformat": 4
 },
 "nbformat": 4,
 "nbformat_minor": 2
}
