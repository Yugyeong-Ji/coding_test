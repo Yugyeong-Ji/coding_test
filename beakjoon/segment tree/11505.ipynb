{
  "nbformat": 4,
  "nbformat_minor": 0,
  "metadata": {
    "colab": {
      "provenance": []
    },
    "kernelspec": {
      "name": "python3",
      "display_name": "Python 3"
    },
    "language_info": {
      "name": "python"
    }
  },
  "cells": [
    {
      "cell_type": "markdown",
      "source": [
        "## 문제 (골드 1)\n",
        "첫째 줄에 수의 개수 N(1 ≤ N ≤ 1,000,000)과 M(1 ≤ M ≤ 10,000), K(1 ≤ K ≤ 10,000) 가 주어진다.\n",
        "M은 수의 변경이 일어나는 횟수이고, K는 구간의 곱을 구하는 횟수이다. 그리고 둘째 줄부터 N+1번째 줄까지 N개의 수가 주어진다.\n",
        "그리고 N+2번째 줄부터 N+M+K+1 번째 줄까지 세 개의 정수 a,b,c가 주어지는데, a가 1인 경우 b번째 수를 c로 바꾸고 a가 2인 경우에는 b부터 c까지의 곱을 구하여 출력하면 된다."
      ],
      "metadata": {
        "id": "bnWoKw_B6NXT"
      }
    },
    {
      "cell_type": "markdown",
      "source": [
        "### 자료구조\n",
        "- 세그먼트 트리: 여러 개의 데이터가 존재할 때, 특정 구간의 합(최솟값, 최댓값, 곱 등)을 구하는데 사용하는 자료구조이다.\n",
        "- 트리 종류 중에 하나로, 이진 트리의 형태이며 특정 구간의 합을 가장 빠르게 구할 수 있다는 장점이 있다.\n",
        "\n",
        "Ex) {1, 2, 3, 4, 5, 6, 7, 8, 9, 10}\n",
        "위와 같은 배열이 있을 때, 인덱스 2부터 8까지 더하려고 한다.\n",
        "이때, 하나씩 다 더할 수 있지만 데이터의 개수가 N이라면 시간 복잡도가 O(N)이 되기 때문에 더 좋은 solution이 필요하다.\n",
        "-> 이때 사용할 수 있는 solution이 Segment tree를 사용하는 것이다."
      ],
      "metadata": {
        "id": "wx8CYDu86e02"
      }
    },
    {
      "cell_type": "code",
      "execution_count": 3,
      "metadata": {
        "colab": {
          "base_uri": "https://localhost:8080/",
          "height": 211
        },
        "id": "c0ZHQfmE3yY8",
        "outputId": "70d5157b-4635-4e81-b642-503a0348bbae"
      },
      "outputs": [
        {
          "output_type": "error",
          "ename": "ValueError",
          "evalue": "not enough values to unpack (expected 3, got 0)",
          "traceback": [
            "\u001b[0;31m---------------------------------------------------------------------------\u001b[0m",
            "\u001b[0;31mValueError\u001b[0m                                Traceback (most recent call last)",
            "\u001b[0;32m<ipython-input-3-b6773c459ecf>\u001b[0m in \u001b[0;36m<cell line: 43>\u001b[0;34m()\u001b[0m\n\u001b[1;32m     41\u001b[0m         \u001b[0;32mreturn\u001b[0m \u001b[0mself\u001b[0m\u001b[0;34m.\u001b[0m\u001b[0mupdate\u001b[0m\u001b[0;34m(\u001b[0m\u001b[0mindex\u001b[0m\u001b[0;34m,\u001b[0m \u001b[0mvalue\u001b[0m\u001b[0;34m,\u001b[0m \u001b[0;36m1\u001b[0m\u001b[0;34m,\u001b[0m \u001b[0;36m0\u001b[0m\u001b[0;34m,\u001b[0m \u001b[0mself\u001b[0m\u001b[0;34m.\u001b[0m\u001b[0mn\u001b[0m\u001b[0;34m-\u001b[0m\u001b[0;36m1\u001b[0m\u001b[0;34m)\u001b[0m\u001b[0;34m\u001b[0m\u001b[0;34m\u001b[0m\u001b[0m\n\u001b[1;32m     42\u001b[0m \u001b[0;34m\u001b[0m\u001b[0m\n\u001b[0;32m---> 43\u001b[0;31m \u001b[0mn\u001b[0m\u001b[0;34m,\u001b[0m \u001b[0mm\u001b[0m\u001b[0;34m,\u001b[0m \u001b[0mk\u001b[0m \u001b[0;34m=\u001b[0m \u001b[0mmap\u001b[0m\u001b[0;34m(\u001b[0m\u001b[0mint\u001b[0m\u001b[0;34m,\u001b[0m\u001b[0minput\u001b[0m\u001b[0;34m(\u001b[0m\u001b[0;34m)\u001b[0m\u001b[0;34m.\u001b[0m\u001b[0msplit\u001b[0m\u001b[0;34m(\u001b[0m\u001b[0;34m)\u001b[0m\u001b[0;34m)\u001b[0m\u001b[0;34m\u001b[0m\u001b[0;34m\u001b[0m\u001b[0m\n\u001b[0m\u001b[1;32m     44\u001b[0m \u001b[0mnums\u001b[0m \u001b[0;34m=\u001b[0m \u001b[0;34m[\u001b[0m\u001b[0mint\u001b[0m\u001b[0;34m(\u001b[0m\u001b[0minput\u001b[0m\u001b[0;34m(\u001b[0m\u001b[0;34m)\u001b[0m\u001b[0;34m)\u001b[0m \u001b[0;32mfor\u001b[0m \u001b[0m_\u001b[0m \u001b[0;32min\u001b[0m \u001b[0mrange\u001b[0m\u001b[0;34m(\u001b[0m\u001b[0mn\u001b[0m\u001b[0;34m)\u001b[0m\u001b[0;34m]\u001b[0m\u001b[0;34m\u001b[0m\u001b[0;34m\u001b[0m\u001b[0m\n\u001b[1;32m     45\u001b[0m \u001b[0msegment_tree\u001b[0m \u001b[0;34m=\u001b[0m \u001b[0mSegmentTree\u001b[0m\u001b[0;34m(\u001b[0m\u001b[0mn\u001b[0m\u001b[0;34m,\u001b[0m \u001b[0mnums\u001b[0m\u001b[0;34m)\u001b[0m\u001b[0;34m\u001b[0m\u001b[0;34m\u001b[0m\u001b[0m\n",
            "\u001b[0;31mValueError\u001b[0m: not enough values to unpack (expected 3, got 0)"
          ]
        }
      ],
      "source": [
        "import sys\n",
        "def input(): return sys.stdin.readline().rstrip() # 표준 입력으로부터 문자열을 빠르게 입력받기 위한 테크닉 / rstrip()은 줄바꿈 문자('/n')를 제거하기 위한 함수\n",
        "\n",
        "class SegmentTree: # 세그먼트 트리 초기화\n",
        "    def __init__(self, n, array):\n",
        "        self.n = n\n",
        "        self.array = array\n",
        "        self.tree = [0] * (4*n)\n",
        "        self.initialize(0,n-1,1) # 세그먼트 트리 초기화하는 함수 호출\n",
        "\n",
        "    def initialize(self, left, right, idx): # 세그먼트 트리를 초기화 하는 메소드\n",
        "        if left == right:\n",
        "            self.tree[idx] = self.array[left] % 1000000007\n",
        "            return self.tree[idx] % 1000000007\n",
        "        mid = (left + right) // 2\n",
        "        self.tree[idx] = (self.initialize(left, mid, 2*idx) * self.initialize(mid+1, right, 2*idx+1)) % 1000000007\n",
        "        return self.tree[idx]\n",
        "\n",
        "    def query(self, left, right, idx, node_left, node_right):\n",
        "        if node_right < left or right < node_left:\n",
        "            return 1\n",
        "        if left <= node_left and node_right <= right:\n",
        "            return self.tree[idx]\n",
        "        mid = (node_left+node_right) // 2\n",
        "        return( self.query(left, right, 2*idx, node_left, mid) * self.query(left, right, 2*idx+1, mid+1, node_right) ) % 1000000007\n",
        "\n",
        "    def update(self, index, new_value, node_idx, node_left, node_right):\n",
        "        if index < node_left or index > node_right:\n",
        "            return self.tree[node_idx]\n",
        "        if node_left == node_right:\n",
        "            self.tree[node_idx] = new_value % 1000000007\n",
        "            return self.tree[node_idx] % 1000000007\n",
        "        mid = (node_left+node_right) // 2\n",
        "        self.tree[node_idx] = (self.update(index, new_value, 2*node_idx, node_left, mid) * self.update(index, new_value, 2*node_idx+1, mid+1, node_right)) % 1000000007\n",
        "        return self.tree[node_idx]\n",
        "\n",
        "    def find_prod(self, left, right):\n",
        "        return self.query(left, right, 1, 0, self.n-1)\n",
        "\n",
        "    def update_value(self, index, value):\n",
        "        return self.update(index, value, 1, 0, self.n-1)\n",
        "\n",
        "n, m, k = map(int,input().split())\n",
        "nums = [int(input()) for _ in range(n)]\n",
        "segment_tree = SegmentTree(n, nums)\n",
        "for _ in range(m+k):\n",
        "    a, b, c = map(int, input().split())\n",
        "    if a == 1:\n",
        "        segment_tree.update_value(b-1, c)\n",
        "    else:\n",
        "        print(segment_tree.find_prod(b-1,c-1))"
      ]
    }
  ]
}