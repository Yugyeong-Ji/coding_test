{
  "nbformat": 4,
  "nbformat_minor": 0,
  "metadata": {
    "colab": {
      "provenance": []
    },
    "kernelspec": {
      "name": "python3",
      "display_name": "Python 3"
    },
    "language_info": {
      "name": "python"
    }
  },
  "cells": [
    {
      "cell_type": "code",
      "source": [
        "from collections import deque\n",
        "\n",
        "v = int(input())\n",
        "e = int(input())\n",
        "\n",
        "graph = [[] for i in range(v+1)]\n",
        "# 입력을 받아서 어떻게 그래프를 처리할지 어려웠음*****\n",
        "for i in range(e):\n",
        "  a, b = map(int, input().split())\n",
        "  graph[a].append(b)\n",
        "  graph[b].append(a)\n",
        "\n",
        "def bfs(x):\n",
        "  deq = deque([x])\n",
        "  count = 0\n",
        "  visited[x] = True\n",
        "  while deq:\n",
        "    node = deq.popleft()\n",
        "    for next in graph[node]:\n",
        "      if not visited[next]:\n",
        "        visited[next] = True\n",
        "        deq.append(next)\n",
        "        count += 1\n",
        "  return count\n",
        "\n",
        "visited = [False for i in range(v+1)]\n",
        "print(bfs(1))"
      ],
      "metadata": {
        "colab": {
          "base_uri": "https://localhost:8080/"
        },
        "id": "9_g_ecdaTSCs",
        "outputId": "d6757c2e-fef3-43eb-94d9-b459058afbd6"
      },
      "execution_count": 9,
      "outputs": [
        {
          "output_type": "stream",
          "name": "stdout",
          "text": [
            "7\n",
            "6\n",
            "1 2\n",
            "2 3\n",
            "1 5\n",
            "5 2\n",
            "5 6\n",
            "4 7\n",
            "4\n"
          ]
        }
      ]
    }
  ]
}