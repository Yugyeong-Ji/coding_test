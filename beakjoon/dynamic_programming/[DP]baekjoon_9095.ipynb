{
 "cells": [
  {
   "cell_type": "code",
   "execution_count": 4,
   "id": "51731083",
   "metadata": {},
   "outputs": [
    {
     "name": "stdout",
     "output_type": "stream",
     "text": [
      "3\n",
      "4\n",
      "7\n",
      "7\n",
      "44\n",
      "10\n",
      "274\n"
     ]
    }
   ],
   "source": [
    "a = [0] * 20\n",
    "\n",
    "def dp(n):\n",
    "    if n == 1:\n",
    "        return 1\n",
    "    if n == 2: # 1+1 / 2\n",
    "        return 2\n",
    "    if n == 3:\n",
    "        return 4 # 1+1+1 / 1+2 / 2+1 / 3\n",
    "\n",
    "    if a[n]: # 이미 구한 값은 바로 반환/구하지 않은 값은 아래에서 구함\n",
    "        return a[n]\n",
    "\n",
    "    a[n] = dp(n-1) + dp(n-2) + dp(n-3)\n",
    "    return a[n]\n",
    "\n",
    "for t in range(int(input())):\n",
    "    n = int(input())\n",
    "    print(dp(n))"
   ]
  },
  {
   "cell_type": "code",
   "execution_count": null,
   "id": "9b39b291",
   "metadata": {},
   "outputs": [],
   "source": []
  }
 ],
 "metadata": {
  "kernelspec": {
   "display_name": "Python 3 (ipykernel)",
   "language": "python",
   "name": "python3"
  },
  "language_info": {
   "codemirror_mode": {
    "name": "ipython",
    "version": 3
   },
   "file_extension": ".py",
   "mimetype": "text/x-python",
   "name": "python",
   "nbconvert_exporter": "python",
   "pygments_lexer": "ipython3",
   "version": "3.9.12"
  }
 },
 "nbformat": 4,
 "nbformat_minor": 5
}
